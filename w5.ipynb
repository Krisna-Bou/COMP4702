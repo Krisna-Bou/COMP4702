{
  "cells": [
    {
      "cell_type": "markdown",
      "metadata": {
        "colab_type": "text",
        "id": "view-in-github"
      },
      "source": [
        "<a href=\"https://colab.research.google.com/github/COMP4702-UQ/Pracs-notebook/blob/main/PracW5.ipynb\" target=\"_parent\"><img src=\"https://colab.research.google.com/assets/colab-badge.svg\" alt=\"Open In Colab\"/></a>"
      ]
    },
    {
      "cell_type": "code",
      "execution_count": null,
      "metadata": {
        "id": "Sn5zSNyN6UCv"
      },
      "outputs": [],
      "source": [
        "from sklearn.model_selection import train_test_split\n",
        "import pandas as pd\n",
        "\n",
        "# Mount google colab to drive to access to the dataset (uncomment if you use Google Colab + Drive)\n",
        "# from google.colab import drive\n",
        "# drive.mount('/content/drive/')"
      ]
    },
    {
      "cell_type": "markdown",
      "metadata": {
        "id": "C7_HQqqP608G"
      },
      "source": [
        "# Q1\n"
      ]
    },
    {
      "cell_type": "code",
      "execution_count": null,
      "metadata": {
        "id": "GdrCuq6_6z9_"
      },
      "outputs": [],
      "source": [
        "# TODO: Load dataset\n",
        "w3classif = ... # Specify full path if you use Google Colab + Drive"
      ]
    },
    {
      "cell_type": "code",
      "execution_count": null,
      "metadata": {
        "id": "GHGgsCKw7OQL"
      },
      "outputs": [],
      "source": [
        "# TODO: create a function to create 10 different shuffled train and test set pairs from the original dataset\n",
        "def create_train_test_data(test_size=0.3):\n",
        "  # For storing data\n",
        "  trains, tests = [], []\n",
        "\n",
        "  for i in range(10):\n",
        "    # TODO: Shuffle the dataset\n",
        "\n",
        "    # TODO: Split the dataset\n",
        "    train_data, test_data = train_test_split()\n",
        "\n",
        "    # Store data\n",
        "    trains.append(train_data)\n",
        "    tests.append(test_data)\n",
        "\n",
        "  return trains, tests"
      ]
    },
    {
      "cell_type": "markdown",
      "metadata": {
        "id": "tFcjavtQ8Zp7"
      },
      "source": [
        "# Q2"
      ]
    },
    {
      "cell_type": "code",
      "execution_count": null,
      "metadata": {
        "id": "C-xKodm78eHS"
      },
      "outputs": [],
      "source": [
        "from sklearn.neighbors import KNeighborsClassifier\n",
        "from sklearn.metrics import accuracy_score\n",
        "import numpy as np\n",
        "\n",
        "# TODO: create a function to repeat classification with kNN for multiple trials\n",
        "def repeat_knn(trials=10, test_size=0.3):\n",
        "\n",
        "  # For storing\n",
        "  train_losses, test_losses = [], []\n",
        "\n",
        "  # Create train and test datasets (calling the function you created previously)\n",
        "  trains, tests = create_train_test_data(test_size)\n",
        "\n",
        "  for i in range(trials):\n",
        "\n",
        "    # TODO: Split train data into features and target\n",
        "\n",
        "\n",
        "    # TODO: Split test data into features and target\n",
        "\n",
        "\n",
        "    # TODO: Initialize the k-NN classifier\n",
        "\n",
        "\n",
        "    # TODO: Train the classifier on the training data\n",
        "\n",
        "\n",
        "    # TODO: Make predictions on the training and test data\n",
        "\n",
        "\n",
        "    # TODO: Calculate training and test accuracy\n",
        "\n",
        "\n",
        "    # TODO: Calculate training and test loss (misclassification rate)\n",
        "\n",
        "\n",
        "    # TODO: Store train and test losses\n",
        "\n",
        "\n",
        "  return train_losses, test_losses"
      ]
    },
    {
      "cell_type": "code",
      "execution_count": null,
      "metadata": {
        "id": "NqW6b8EY-NMr"
      },
      "outputs": [],
      "source": [
        "# Print the average training and test losses for 10 trials using the function implemented above\n",
        "train_losses, test_losses = repeat_knn(trials=10, test_size=0.3)\n",
        "print(f'Avg Training Loss (Misclassification Rate): {np.array(train_losses).mean() * 100:.2f}%')\n",
        "print(f'Avg Test Loss (Misclassification Rate): {np.array(test_losses).mean() * 100:.2f}%')"
      ]
    },
    {
      "cell_type": "markdown",
      "metadata": {
        "id": "9p4axUHW-mYY"
      },
      "source": [
        "# Q3"
      ]
    },
    {
      "cell_type": "code",
      "execution_count": null,
      "metadata": {
        "id": "et4o2flU-YdO"
      },
      "outputs": [],
      "source": [
        "# TODO: Define all possible test set sizes\n",
        "test_sizes = []\n",
        "\n",
        "for ts in test_sizes:\n",
        "  # TODO: Repeat Q1 and Q2 and print the average loss for 10 trials for each test set size"
      ]
    },
    {
      "cell_type": "markdown",
      "metadata": {
        "id": "xClMuw8A_BWF"
      },
      "source": [
        "# Q4"
      ]
    },
    {
      "cell_type": "code",
      "execution_count": null,
      "metadata": {
        "id": "bj_HNZyV_KTE"
      },
      "outputs": [],
      "source": [
        "# TODO: Define all possible test set sizes\n",
        "test_sizes = []\n",
        "\n",
        "for ts in test_sizes:\n",
        "  # TODO: Calculate the sample standard deviation of your training and test set error values over the 10 trials from Q2 and Q3."
      ]
    },
    {
      "cell_type": "markdown",
      "metadata": {
        "id": "nrYcoSg__jdY"
      },
      "source": [
        "# Q5"
      ]
    },
    {
      "cell_type": "code",
      "execution_count": null,
      "metadata": {
        "id": "bNkpYItl_Oh5"
      },
      "outputs": [],
      "source": [
        "from sklearn.model_selection import cross_val_score\n",
        "\n",
        "# TODO: Shuffle the original dataset\n",
        "\n",
        "\n",
        "# TODO: Split the dataset into features and target\n",
        "\n",
        "\n",
        "# TODO: Initialize the k-NN classifier\n",
        "\n",
        "\n",
        "# TODO: Define the number of folds for cross-validation\n",
        "num_folds = 10\n",
        "\n",
        "# TODO: Perform cross-validation\n",
        "\n",
        "\n",
        "# TODO: Calculate mean and standard deviation of cross-validation error\n",
        "\n",
        "\n",
        "# TODO: Print the errors"
      ]
    }
  ],
  "metadata": {
    "colab": {
      "authorship_tag": "ABX9TyMT/u02ISpHSYqzzmw6N/b/",
      "include_colab_link": true,
      "provenance": []
    },
    "kernelspec": {
      "display_name": "Python 3",
      "name": "python3"
    },
    "language_info": {
      "name": "python"
    }
  },
  "nbformat": 4,
  "nbformat_minor": 0
}
